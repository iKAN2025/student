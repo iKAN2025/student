{
 "cells": [
  {
   "attachments": {},
   "cell_type": "markdown",
   "metadata": {},
   "source": [
    "---\n",
    "layout: default\n",
    "title: Basic HTML\n",
    "type: hacks\n",
    "courses: { \"compsci\": {\"week\": 6}}\n",
    "---"
   ]
  },
  {
   "cell_type": "raw",
   "metadata": {},
   "source": [
    "{% include nav_basics.html %}"
   ]
  },
  {
   "attachments": {},
   "cell_type": "markdown",
   "metadata": {},
   "source": [
    "\n",
    "\n",
    "# How does HTML work?\n",
    "Similar function to Markdown, syntax defines how stuff should be displayed\n",
    "- HTML is based on beginning and closing tags `<tagname>content</tagname>`\n",
    "  - Note the \"/\" on the ending or closing tag of the pair"
   ]
  },
  {
   "attachments": {},
   "cell_type": "markdown",
   "metadata": {},
   "source": [
    "## Compare markdown to html below\n",
    "This below example shows comparison of a [heading](https://www.w3schools.com/html/html_headings.asp) and [paragraph](https://www.w3schools.com/html/html_paragraphs.asp).  Click on links to see many more HTML examples.\n"
   ]
  },
  {
   "cell_type": "code",
   "execution_count": 2,
   "metadata": {},
   "outputs": [
    {
     "data": {
      "text/markdown": [
       "\n",
       "### Markdown: This is a Heading\n",
       "\n",
       "This is a paragraph\n"
      ],
      "text/plain": [
       "<IPython.core.display.Markdown object>"
      ]
     },
     "metadata": {},
     "output_type": "display_data"
    }
   ],
   "source": [
    "%%markdown\n",
    "\n",
    "### Markdown: This is a Heading\n",
    "\n",
    "This is a paragraph\n"
   ]
  },
  {
   "cell_type": "code",
   "execution_count": 3,
   "metadata": {},
   "outputs": [
    {
     "data": {
      "text/html": [
       "\n",
       "<h3>HTML: This is a Heading</h3>\n",
       "<p>This is a paragraph.</p>\n"
      ],
      "text/plain": [
       "<IPython.core.display.HTML object>"
      ]
     },
     "metadata": {},
     "output_type": "display_data"
    }
   ],
   "source": [
    "%%html\n",
    "\n",
    "<h3>HTML: This is a Heading</h3>\n",
    "<p>This is a paragraph.</p>"
   ]
  },
  {
   "attachments": {},
   "cell_type": "markdown",
   "metadata": {},
   "source": [
    "# Attributes\n",
    "- Learn about [attributes](https://www.w3schools.com/html/html_attributes.asp) \n",
    "- Tags can have additional info in the form of attributes\n",
    "- Attributes usually come in name/value pairs like: name=\"value\"\n",
    "\n",
    "```html\n",
    "<tagname attribute_name=\"attribute_value\" another_attribute=\"another_value\">inner html text</tagname>\n",
    "```\n",
    "\n",
    "- href example with attribute for web link and inner html to describe link\n",
    "\n",
    "```html\n",
    "<a href=\"https://www.w3schools.com/html/default.asp\">Visit W3Schools HTML Page</a>"
   ]
  },
  {
   "attachments": {},
   "cell_type": "markdown",
   "metadata": {},
   "source": [
    "## Sample Markdown vs HTML Tags\n",
    "Image Tag - Markdown\n",
    "\n",
    "```md\n",
    "![describe image](link to image)\n",
    "```\n",
    "\n",
    "Image Tag - HTML\n",
    "\n",
    "```html\n",
    "<!-- no content so no end tag, width/height is optional (in pixels) -->\n",
    "<img alt=\"describe image\" src=\"link to image\" width=\"100\" height=\"200\">\n",
    "```\n",
    "\n",
    "Link Tag - Markdown\n",
    "\n",
    "```md\n",
    "[link text](link)\n",
    "```\n",
    "\n",
    "Link Tag - HTML\n",
    "\n",
    "```html\n",
    "<a href=\"link\">link text</a>\n",
    "```\n",
    "\n",
    "Bolded Text - Markdown\n",
    "\n",
    "```md\n",
    "**Bolded Text**\n",
    "```\n",
    "\n",
    "Bolded Text - HTML\n",
    "\n",
    "```md\n",
    "<strong>Bolded Text</strong>\n",
    "```\n",
    "\n",
    "Italic Text - Markdown\n",
    "\n",
    "```md\n",
    "*Italic Text*\n",
    "```\n",
    "\n",
    "Italic Text - HTML\n",
    "\n",
    "```md\n",
    "<i>Italic Text</i>\n",
    "```"
   ]
  },
  {
   "attachments": {},
   "cell_type": "markdown",
   "metadata": {},
   "source": [
    "# More tags (not really in markdown)\n",
    "P tag (just represeants a paragraph/normal text)\n",
    "\n",
    "```html\n",
    "<p>This is a paragraph</p>\n",
    "```\n",
    "\n",
    "Button\n",
    "\n",
    "```html\n",
    "<button>some button text</button>\n",
    "```\n",
    "\n",
    "Div (groups together related content)\n",
    "\n",
    "```html\n",
    "<!-- first information -->\n",
    "<div>\n",
    "    <!-- notice how tags can be put INSIDE eachother -->\n",
    "    <p>This is the first paragarph of section 1</p>\n",
    "    <p>This is the second paragraph of section 1</p>\n",
    "</div>\n",
    "\n",
    "<!-- second information -->\n",
    "<div>\n",
    "    <!-- notice how tags can be put INSIDE eachother -->\n",
    "    <p>This is the first paragarph of section 2</p>\n",
    "    <p>This is the second paragraph of section 2</p>\n",
    "</div>\n",
    "```\n",
    "\n"
   ]
  },
  {
   "cell_type": "code",
   "execution_count": 9,
   "metadata": {},
   "outputs": [
    {
     "data": {
      "text/html": [
       "<h3>Page Heading</h3>\n",
       "<p>Paragraph description of page</p>\n",
       "<script>\n",
       "    console.log(\"Output to console, showing that JavaScript code is running\")\n",
       "</script>\n"
      ],
      "text/plain": [
       "<IPython.core.display.HTML object>"
      ]
     },
     "metadata": {},
     "output_type": "display_data"
    }
   ],
   "source": [
    "%%html\n",
    "<h3>Page Heading</h3>\n",
    "<p>Paragraph description of page</p>\n",
    "<script>\n",
    "    console.log(\"Output to console, showing that JavaScript code is running\")\n",
    "</script>"
   ]
  },
  {
   "attachments": {},
   "cell_type": "markdown",
   "metadata": {},
   "source": [
    "# Resources\n",
    "- https://www.w3schools.com/html/default.asp\n",
    "- I will show a demo of how to find information on this website\n",
    "![Alt text](../images/instruments.png)"
   ]
  },
  {
   "attachments": {},
   "cell_type": "markdown",
   "metadata": {},
   "source": [
    "# HTML Hacks\n",
    "- Below is a wireframe for an HTML element you will create. A wireframe is a rough visual representation of HTML elements on a page and isn't necessarily to scale or have the exact styling that the final HTML will have. Using the syntax above, try to create an HTML snippet that corresponds to the below wireframe.\n",
    "- The \"a tags\" can contain any links that you want\n",
    "\n",
    "![wireframe for html hacks]({{ site.baseurl }}/images/wireframe.png)"
   ]
  },
  {
   "cell_type": "code",
   "execution_count": 12,
   "metadata": {},
   "outputs": [
    {
     "data": {
      "text/html": [
       "\n",
       "<html>\n",
       "<head>\n",
       "<style>\n",
       ".myDiv {\n",
       "  border: 5px outset #2F329F; /*use binary codes */\n",
       "  background-color: #EC329F;\n",
       "  text-align: center;\n",
       "}\n",
       ".myDivTwo {\n",
       "  border: 5px outset #2F329F;\n",
       "  background-color: #EC329F ;\n",
       "  text-align: center;\n",
       "}\n",
       "</style>\n",
       "</head>\n",
       "<body>\n",
       "\n",
       "<div class=\"myDiv\">\n",
       "  <button type=\"button\">Click Me!</button>\n",
       "  <p>This is a paragraph in a div element as shown in the wire frame</p>\n",
       "\n",
       "</div>\n",
       "<div class=\"myDivTwo\">\n",
       "\n",
       "  <a>This is an a tag </a> <p> </p>\n",
       "  <a>This is an a tag </a>\n",
       "  <p>This is a paragraph in a div element as shown in the wire frame</p>\n",
       "\n",
       "</div>\n",
       "</body>\n",
       "</html>\n",
       "\n",
       "\n"
      ],
      "text/plain": [
       "<IPython.core.display.HTML object>"
      ]
     },
     "metadata": {},
     "output_type": "display_data"
    }
   ],
   "source": [
    "%%html\n",
    "\n",
    "<html>\n",
    "<head>\n",
    "<style>\n",
    ".myDiv {\n",
    "  border: 5px outset #2F329F; /*use binary codes */\n",
    "  background-color: #EC329F;\n",
    "  text-align: center;\n",
    "}\n",
    ".myDivTwo {\n",
    "  border: 5px outset #2F329F;\n",
    "  background-color: #EC329F ;\n",
    "  text-align: center;\n",
    "}\n",
    "</style>\n",
    "</head>\n",
    "<body>\n",
    "\n",
    "<div class=\"myDiv\">\n",
    "  <button type=\"button\">Click Me!</button>\n",
    "  <p>This is a paragraph in a div element as shown in the wire frame</p>\n",
    "\n",
    "</div>\n",
    "<div class=\"myDivTwo\">\n",
    "\n",
    "  <a>This is an a tag </a> <p> </p>\n",
    "  <a>This is an a tag </a>\n",
    "  <p>This is a paragraph in a div element as shown in the wire frame</p>\n",
    "\n",
    "</div>\n",
    "</body>\n",
    "</html>\n",
    "\n",
    "\n"
   ]
  },
  {
   "cell_type": "code",
   "execution_count": 6,
   "metadata": {},
   "outputs": [
    {
     "data": {
      "text/html": [
       "<html>\n",
       "<head>\n",
       "<style>\n",
       "  .instrumentDivOne {\n",
       "    background-image: ({{site.baseurl}}/images/webdesigntemp2);\n",
       "    height: 3em;\n",
       "    background-repeat: no-repeat;\n",
       "    font-size: 2.5em;\n",
       "    text-align: center;\n",
       "    padding: 5em; \n",
       "    \n",
       "  }\n",
       "  .textDiv{\n",
       "     border: 5px outset #2F329F;\n",
       "    background-color: #EC329F ;\n",
       "    text-align: center;\n",
       "  \n",
       "  }\n",
       "  </style>\n",
       "\n",
       "\n",
       "\n",
       "\n",
       "  <div class=\"instrumentDivOne\">\n",
       "  \n",
       "\n",
       "  <p> <strong> <mark>  Instrument Practice Tracker </mark> </strong> </p>\n",
       "  \n",
       "  </div> \n",
       "\n",
       " <div class=\"textDiv\">\n",
       " \n",
       " <p>  Instrument Practice Tracker is a great way to track practicing your instrument! Click the button log now to start tracking hours   </p>\n",
       "  <button type=\"button\">Log Now</button>\n",
       "  \n",
       "  </div> \n",
       " \n",
       " \n"
      ],
      "text/plain": [
       "<IPython.core.display.HTML object>"
      ]
     },
     "metadata": {},
     "output_type": "display_data"
    }
   ],
   "source": [
    "%%HTML\n",
    "<html>\n",
    "<head>\n",
    "<style>\n",
    "  .instrumentDivOne {\n",
    "    background-image: ({{site.baseurl}}/images/webdesigntemp2);\n",
    "    height: 3em;\n",
    "    background-repeat: no-repeat;\n",
    "    font-size: 2.5em;\n",
    "    text-align: center;\n",
    "    padding: 5em; \n",
    "    \n",
    "  }\n",
    "  .textDiv{\n",
    "     border: 5px outset #2F329F;\n",
    "    background-color: #EC329F ;\n",
    "    text-align: center;\n",
    "  \n",
    "  }\n",
    "  </style>\n",
    "\n",
    "\n",
    "\n",
    "\n",
    "  <div class=\"instrumentDivOne\">\n",
    "  \n",
    "\n",
    "  <p> <strong> <mark>  Instrument Practice Tracker </mark> </strong> </p>\n",
    "  \n",
    "  </div> \n",
    "\n",
    " <div class=\"textDiv\">\n",
    " \n",
    " <p>  Instrument Practice Tracker is a great way to track practicing your instrument! Click the button log now to start tracking hours   </p>\n",
    "  <button type=\"button\">Log Now</button>\n",
    "  \n",
    "  </div> \n",
    " \n",
    " "
   ]
  },
  {
   "attachments": {},
   "cell_type": "markdown",
   "metadata": {},
   "source": [
    "## How the Layout Looks Like In VS CODE\n",
    "\n",
    "<img src=\"/student/images/webdesigntemptwo.png\"/>\n",
    "\n"
   ]
  },
  {
   "attachments": {},
   "cell_type": "markdown",
   "metadata": {},
   "source": [
    "\n"
   ]
  },
  {
   "cell_type": "markdown",
   "metadata": {},
   "source": []
  },
  {
   "cell_type": "markdown",
   "metadata": {},
   "source": []
  },
  {
   "cell_type": "markdown",
   "metadata": {},
   "source": []
  }
 ],
 "metadata": {
  "kernelspec": {
   "display_name": "Python 3",
   "language": "python",
   "name": "python3"
  },
  "language_info": {
   "codemirror_mode": {
    "name": "ipython",
    "version": 3
   },
   "file_extension": ".py",
   "mimetype": "text/x-python",
   "name": "python",
   "nbconvert_exporter": "python",
   "pygments_lexer": "ipython3",
   "version": "3.11.3"
  },
  "orig_nbformat": 4
 },
 "nbformat": 4,
 "nbformat_minor": 2
}
