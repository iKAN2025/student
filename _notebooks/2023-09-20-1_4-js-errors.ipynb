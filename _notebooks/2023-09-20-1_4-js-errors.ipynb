{
 "cells": [
  {
   "cell_type": "markdown",
   "metadata": {},
   "source": [
    "---\n",
    "layout: post\n",
    "title: 1.4 Correcting errors\n",
    "description: Practice with identifying and correcting code blocks\n",
    "type: ccc\n",
    "author: Safin Singh and Rohan Juneja\n",
    "permalink: /basics/js-debug\n",
    "hide: True\n",
    "---"
   ]
  },
  {
   "cell_type": "markdown",
   "metadata": {},
   "source": [
    "{% include nav_basics.html %}"
   ]
  },
  {
   "cell_type": "markdown",
   "metadata": {},
   "source": [
    "# Code Segments\n",
    "\n",
    "Practice fixing the following code segments!"
   ]
  },
  {
   "cell_type": "markdown",
   "metadata": {},
   "source": [
    "## Segment 1: Alphabet List\n",
    "\n",
    "Intended behavior: create a list of characters from the string contained in the variable `alphabet`\n",
    "\n",
    "### Code:"
   ]
  },
  {
   "cell_type": "code",
   "execution_count": 4,
   "metadata": {
    "vscode": {
     "languageId": "javascript"
    }
   },
   "outputs": [
    {
     "data": {
      "application/javascript": "\nvar alphabet = \"abcdefghijklmnopqrstuvwxyz\";\nvar alphabetList = [];\nvar realAlphabetList = [];\n\nfor (var i = 0; i < 26; i++) { //made 26 letters\n\talphabetList.push(i);\n\trealAlphabetList.push(alphabet[alphabetList[i]]); // pushed elements a-z\n\t\n\n}\n\nconsole.log(realAlphabetList) //logged list outside of loop\n\n\n\n",
      "text/plain": [
       "<IPython.core.display.Javascript object>"
      ]
     },
     "metadata": {},
     "output_type": "display_data"
    }
   ],
   "source": [
    "%%js\n",
    "\n",
    "var alphabet = \"abcdefghijklmnopqrstuvwxyz\";\n",
    "var alphabetList = [];\n",
    "var realAlphabetList = [];\n",
    "\n",
    "for (var i = 0; i < 26; i++) { //made 26 letters\n",
    "\talphabetList.push(i);\n",
    "\trealAlphabetList.push(alphabet[alphabetList[i]]); // pushed elements a-z\n",
    "\t\n",
    "\n",
    "}\n",
    "\n",
    "console.log(realAlphabetList) //logged list outside of loop\n",
    "\n",
    "\n",
    "\n"
   ]
  },
  {
   "attachments": {},
   "cell_type": "markdown",
   "metadata": {},
   "source": [
    "### What I Changed\n",
    "\n",
    "I added semicolons. I also changed i to be less than 26, the amount of elements in realAlphabetList, rather than comparing it to the list itself. I also made i-1 because i is one greater than the actual index of the alphabet"
   ]
  },
  {
   "cell_type": "markdown",
   "metadata": {},
   "source": [
    "## Segment 2: Numbered Alphabet\n",
    "\n",
    "Intended behavior: print the number of a given alphabet letter within the alphabet. For example:\n",
    "```\n",
    "\"_\" is letter number _ in the alphabet\n",
    "```\n",
    "\n",
    "Where the underscores (_) are replaced with the letter and the position of that letter within the alphabet (e.g. a=1, b=2, etc.)\n",
    "\n",
    "### Code:"
   ]
  },
  {
   "cell_type": "code",
   "execution_count": 5,
   "metadata": {
    "vscode": {
     "languageId": "javascript"
    }
   },
   "outputs": [
    {
     "data": {
      "application/javascript": "\n\n\nvar alphabet = \"abcdefghijklmnopqrstuvwxyz\";\nvar alphabetList = [];\nvar realAlphabetList = [];\n\nfor (var i = 0; i < 26; i++) { //made 26 letters\n\talphabetList.push(i);\n\trealAlphabetList.push(alphabet[alphabetList[i]]); // pushed elements a-z\n\t\n\n}\n\n\nlet letterNumber = 5; \n\nfor (var i = 0; i < 26; i++) {\n\tif (i === letterNumber) {\n\t\tconsole.log(realAlphabetList[i-1] + \" is letter number 5 in the alphabet\"); //missed semicolon\n\t}\n}\n\n// Should output:\n// \"e\" is letter number 5 in the alphabet\n",
      "text/plain": [
       "<IPython.core.display.Javascript object>"
      ]
     },
     "metadata": {},
     "output_type": "display_data"
    }
   ],
   "source": [
    "%%js\n",
    "\n",
    "\n",
    "\n",
    "var alphabet = \"abcdefghijklmnopqrstuvwxyz\";\n",
    "var alphabetList = [];\n",
    "var realAlphabetList = [];\n",
    "\n",
    "for (var i = 0; i < 26; i++) { //made 26 letters\n",
    "\talphabetList.push(i);\n",
    "\trealAlphabetList.push(alphabet[alphabetList[i]]); // pushed elements a-z\n",
    "\t\n",
    "\n",
    "}\n",
    "\n",
    "\n",
    "let letterNumber = 5; \n",
    "\n",
    "for (var i = 0; i < 26; i++) {\n",
    "\tif (i === letterNumber) {\n",
    "\t\tconsole.log(realAlphabetList[i-1] + \" is letter number 5 in the alphabet\"); //missed semicolon\n",
    "\t}\n",
    "}\n",
    "\n",
    "// Should output:\n",
    "// \"e\" is letter number 5 in the alphabet"
   ]
  },
  {
   "cell_type": "markdown",
   "metadata": {},
   "source": [
    "### What I Changed\n",
    "\n",
    "I changed..."
   ]
  },
  {
   "cell_type": "markdown",
   "metadata": {},
   "source": [
    "## Segment 3: Odd Numbers\n",
    "\n",
    "Intended behavior: print a list of all the odd numbers below 10\n",
    "\n",
    "### Code:"
   ]
  },
  {
   "cell_type": "code",
   "execution_count": 6,
   "metadata": {
    "vscode": {
     "languageId": "javascript"
    }
   },
   "outputs": [
    {
     "data": {
      "application/javascript": "\nlet evens = [];\nlet i = 1; // let i start from one to get 1, 3, 5, 7, 9\n\nwhile (i <= 10) {\n  evens.push(i);\n  i += 2;\n}\n\nconsole.log(evens);\n",
      "text/plain": [
       "<IPython.core.display.Javascript object>"
      ]
     },
     "metadata": {},
     "output_type": "display_data"
    }
   ],
   "source": [
    "%%js\n",
    "\n",
    "let evens = [];\n",
    "let i = 1; // let i start from one to get 1, 3, 5, 7, 9\n",
    "\n",
    "while (i <= 10) {\n",
    "  evens.push(i);\n",
    "  i += 2;\n",
    "}\n",
    "\n",
    "console.log(evens);"
   ]
  },
  {
   "cell_type": "markdown",
   "metadata": {},
   "source": [
    "### What I Changed\n",
    "\n",
    "I changed..."
   ]
  },
  {
   "cell_type": "markdown",
   "metadata": {},
   "source": [
    "# BELOW NOT EDITED"
   ]
  },
  {
   "cell_type": "markdown",
   "metadata": {},
   "source": [
    "The intended outcome is printing a number between 1 and 100 once, if it is a multiple of 2 or 5 \n",
    "- What values are outputted incorrectly. Why?\n",
    "- Make changes to get the intended outcome."
   ]
  },
  {
   "cell_type": "code",
   "execution_count": 27,
   "metadata": {
    "vscode": {
     "languageId": "javascript"
    }
   },
   "outputs": [
    {
     "data": {
      "application/javascript": "\nvar numbers = []\nvar newNumbers = []\nvar i = 0\n\nwhile (i < 100) {\n    numbers.push(i); //missing semicolon\n    i += 1;\n}\nfor (var i of numbers) {\n    if (numbers[i] % 5 == 0 || numbers[i] % 2 == 0 ) { //missing brackets\n        newNumbers.push(numbers[i]);\n    }\n    //if (numbers[i] % 2 == 0 && numbers[i] % 5 != 0) { // prints out numbers from 0 if they are odd, doesn't work\n     //   newNumbers.push(numbers[i]);\n    //}\n       \n}\nconsole.log(newNumbers); \n\n",
      "text/plain": [
       "<IPython.core.display.Javascript object>"
      ]
     },
     "metadata": {},
     "output_type": "display_data"
    }
   ],
   "source": [
    "%%js\n",
    "\n",
    "var numbers = []\n",
    "var newNumbers = []\n",
    "var i = 0\n",
    "\n",
    "while (i < 100) {\n",
    "    numbers.push(i); //missing semicolon\n",
    "    i += 1;\n",
    "}\n",
    "for (var i of numbers) {\n",
    "    if (numbers[i] % 5 == 0 || numbers[i] % 2 == 0 ) { //missing brackets\n",
    "        newNumbers.push(numbers[i]);\n",
    "    }\n",
    "    //if (numbers[i] % 2 == 0 && numbers[i] % 5 != 0) { // prints out numbers from 0 if they are odd, doesn't work\n",
    "     //   newNumbers.push(numbers[i]);\n",
    "    //}\n",
    "       \n",
    "}\n",
    "console.log(newNumbers); \n",
    "\n"
   ]
  },
  {
   "cell_type": "markdown",
   "metadata": {},
   "source": [
    "# Challenge\n",
    "\n",
    "This code segment is at a very early stage of implementation.\n",
    "- What are some ways to (user) error proof this code?\n",
    "- The code should be able to calculate the cost of the meal of the user\n",
    "\n",
    "Hint:\n",
    "- write a “single” test describing an expectation of the program of the program\n",
    "- test - input burger, expect output of burger price\n",
    "- run the test, which should fail because the program lacks that feature\n",
    "- write “just enough” code, the simplest possible, to make the test pass\n",
    "\n",
    "Then repeat this process until you get program working like you want it to work."
   ]
  },
  {
   "cell_type": "code",
   "execution_count": 31,
   "metadata": {
    "vscode": {
     "languageId": "javascript"
    }
   },
   "outputs": [
    {
     "data": {
      "application/javascript": "var menu =  {\"burger\": 3.99,\n         \"fries\": 1.99,\n         \"drink\": 0.99};\nconsole.log(menu);\n\n\n\n\nvar burgerAsk  = prompt(\"Do you want to see  price of a burger?\");\n     if (burgerAsk ===\"yes\") {\n         return (menu[\"burger\"]);\n     }\n\n\nconsole.log(\"function burger created\");\n\nvar total = 0;\n\n\n\n//shows the user the menu and prompts them to select an item\nconsole.log(\"Menu\")\nfor (var item in menu) {\n    console.log(item + \"  $\" + menu[item].toFixed(2)) //why is toFixed used?\n}\n//ideally the code should support multiple items\nvar item = \"burger\"\n\n//code should add the price of the menu items selected by the user \nconsole.log(total);    \n",
      "text/plain": [
       "<IPython.core.display.Javascript object>"
      ]
     },
     "metadata": {},
     "output_type": "display_data"
    }
   ],
   "source": [
    "\n",
    "\n",
    "%%js\n",
    "\n",
    "console.log(menu);\n",
    "\n",
    "\n",
    "\n",
    "\n",
    "var burgerAsk  = prompt(\"Do you want to see  price of a burger?\");\n",
    "     if (burgerAsk ===\"yes\") {\n",
    "         return (menu[\"burger\"]);\n",
    "     }\n",
    "\n",
    "\n",
    "console.log(\"function burger created\");\n",
    "\n",
    "var total = 0;\n",
    "\n",
    "\n",
    "\n",
    "//shows the user the menu and prompts them to select an item\n",
    "console.log(\"Menu\")\n",
    "for (var item in menu) {\n",
    "    console.log(item + \"  $\" + menu[item].toFixed(2)) //why is toFixed used?\n",
    "}\n",
    "//ideally the code should support multiple items\n",
    "var item = \"burger\"\n",
    "\n",
    "//code should add the price of the menu items selected by the user \n",
    "console.log(total);    "
   ]
  },
  {
   "cell_type": "markdown",
   "metadata": {},
   "source": [
    "## Hacks\n",
    "- Fix the errors in the first three segments in this notebook and say what you changed in the code cell under \"What I Changed\" (Challenge is optional)"
   ]
  },
  {
   "attachments": {},
   "cell_type": "markdown",
   "metadata": {},
   "source": [
    "\n",
    "\n",
    "<html>\n",
    "\n",
    "<head>\n",
    "  <meta charset=\"utf-8\">\n",
    "  <meta name=\"viewport\" content=\"width=device-width\">\n",
    "</head>\n",
    "\n",
    "<html>\n",
    "<head>\n",
    "<style>\n",
    "\n",
    "\n",
    "\n",
    "  \n",
    ".myDiv {\n",
    "  border: 5px outset #2F329F; /*use binary codes */\n",
    "  background-color: #EC329F;\n",
    "  text-align: center;\n",
    "}\n",
    "</style>\n",
    "</head>\n",
    "<body>\n",
    "\n",
    "\n",
    " \n",
    "    <div class=\"myDiv\">\n",
    "      <p> <strong> Menu: </strong></p>\n",
    "        <li>burger: 3.99 </li>\n",
    "        <li>fries: 1.99 </li>\n",
    "        <li>drink: 3.99 </li>\n",
    "     \n",
    "\n",
    "  <p> </p>\n",
    "  <button onclick=\"myFunction()\">Order</button>\n",
    "  <p> <strong> Total Price </strong></p>\n",
    "  <p id=\"p1\"></p>\n",
    "  <script>\n",
    " \n",
    "  \n",
    "function myFunction() {\n",
    "  var menu =  {\"burger\": 3.99,\n",
    "             \"fries\": 1.99,\n",
    "             \"drink\": 0.99};\n",
    "\n",
    "   burger_number = parseInt(prompt(\"How many burgers do you want? If you don't want any, type 0. \"));\n",
    "   burger_price = burger_number * menu[\"burger\"];\n",
    "   drink_number = parseInt(prompt(\"How many drinks do you want?\"));\n",
    "   drink_price = drink_number * menu[\"drink\"];\n",
    "   fries_number = parseInt(prompt(\"How many fries do you want? If you don't want any, type 0. \"));\n",
    "   fries_price = fries_number * menu[\"fries\"];\n",
    "   total_price = fries_price + drink_price + burger_price;\n",
    "   html_price = total_price.toFixed(2) +\"$\"\n",
    "   document.getElementById(\"p1\").innerHTML = html_price;\n",
    "\n",
    "\n",
    "  \n",
    "  }\n",
    "\n",
    "\n",
    "\n",
    "\n",
    "    \n",
    "</script>\n",
    "\n",
    "\n",
    "\n"
   ]
  }
 ],
 "metadata": {
  "kernelspec": {
   "display_name": "Python 3.10.6 64-bit",
   "language": "python",
   "name": "python3"
  },
  "language_info": {
   "codemirror_mode": {
    "name": "ipython",
    "version": 3
   },
   "file_extension": ".py",
   "mimetype": "text/x-python",
   "name": "python",
   "nbconvert_exporter": "python",
   "pygments_lexer": "ipython3",
   "version": "3.11.3"
  },
  "orig_nbformat": 4,
  "vscode": {
   "interpreter": {
    "hash": "aee8b7b246df8f9039afb4144a1f6fd8d2ca17a180786b69acc140d282b71a49"
   }
  }
 },
 "nbformat": 4,
 "nbformat_minor": 2
}
