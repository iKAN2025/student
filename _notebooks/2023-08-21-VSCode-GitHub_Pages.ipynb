{
 "cells": [
  {
   "attachments": {},
   "cell_type": "markdown",
   "metadata": {},
   "source": [
    "---\n",
    "comments: true\n",
    "layout: default\n",
    "title: Setting Up My Github Project \n",
    "type: hacks\n",
    "courses: { compsci: {week: 0}}\n",
    "categories: [C4.1]\n",
    "---"
   ]
  },
  {
   "attachments": {},
   "cell_type": "markdown",
   "metadata": {},
   "source": [
    "## Making My Own Github Project 😀\n",
    "> I ran the following commands using terminal on my <mark> macbook </mark> after I forked the repository\n",
    "\n",
    "- Clone and Open project in VSCode\n",
    "- Change \"forkme\" text with your \"ghid\" or selected location\n",
    "\n",
    "\n",
    "```bash\n",
    "(base) id:~$ mkdir -p vscode # make a vscode directory\n",
    "(base) id:~$ cd vscode # change to the directory\n",
    "(base) id:~$ git clone https://github.com/forkme/student.git # change to your repo\n",
    "(base) id:~$ cd  student  # change to the project directory\n",
    "(base) id:~$ code . # open VSCode in project directory\n",
    "```"
   ]
  },
  {
   "attachments": {},
   "cell_type": "markdown",
   "metadata": {},
   "source": [
    "### VSCode for Python Extensions\n",
    "- VSCode [Language extensions](https://code.visualstudio.com/docs/languages/overview)\n",
    "    - Install Python, Python Environment Manager, Python Extension Pack, Pylance\n",
    "    - Install Jupyter, Jupyter Keymap\n",
    "    - Install IntelliCode, IntelliCode API Usage Examples\n",
    "    - Windows machines install WSL Remote Development\n",
    "\n",
    "<mark> <strong> I also installed a spellcheck for my code and an emoji extension! </mark> </strong>"
   ]
  },
  {
   "cell_type": "code",
   "execution_count": null,
   "metadata": {
    "vscode": {
     "languageId": "html"
    }
   },
   "outputs": [],
   "source": [
    "%%HTML\n",
    "\n",
    "<!-- Here is a little preview of HTML to Describe VSCode Marketplace -->\n",
    "\n",
    "<div>\n",
    "    <div style=\"float: left; margin: 0px 10px 10px 0px;\">\n",
    "        <a href=\"https://marketplace.visualstudio.com/vscode\">\n",
    "            <img alt=\"Extensions\" src=\"{{site.baseurl}}/images/extensions.png\" title=\"VS Code Marketplace\" width=\"250\">\n",
    "        </a>\n",
    "    </div>\n",
    "    <div>\n",
    "        <hr>\n",
    "        <p>\n",
    "        Visual Studio Code claims to provide just the tools a developer needs for a quick code-build-debug and version control cycle.  It provides a Market Place for enhancements and more complex workflows.  <mark>Before adding extensions, clone projects</mark> and see what is requested or added.  Here are some extension that were added through that process or that I have added...\n",
    "        </p>\n",
    "        <ul>\n",
    "            <li>\n",
    "                <mark>In marketplace</mark> there are several extensions for Python, Python Intellisense, Python Extension Pack\n",
    "            </li>\n",
    "            <li>\n",
    "                <mark>Jupyter</mark>: This supports build jupyter .ipynb files from within VS Code\n",
    "            </li>\n",
    "            <li>\n",
    "                <mark>Code Spell Checker</mark>: I need this when I am coding! I always misspell stuff!\n",
    "            </li>\n",
    "            <li>\n",
    "                <mark>IntelliCode</mark>: It's very useful! It's able to  sense type of code by extension.  Also, it help me with syntax which helps me with debugging the program.\n",
    "            </li>\n",
    "        </ul>\n",
    "        <p>\n",
    "        <mark>\n",
    "        </p>\n",
    "        <hr>\n",
    "    </div>\n",
    "</div>"
   ]
  },
  {
   "attachments": {},
   "cell_type": "markdown",
   "metadata": {},
   "source": [
    "## Hacks\n",
    "\n",
    " Go to my [home page](http://0.0.0.0:4200/student/) \n",
    "\n",
    "\n",
    "> Setup Tools and test GitHub connection. Tool and Equipment setup is like attendance, without Tools and Equipment you are effectually absent.\n",
    "- Change index.md to show it is REALLY YOURS. Add Freeform picture, hobbies (reading/writing), and cute videos (dog, how I would learn how to code) Refer to [Markdown Cheet Sheet](https://www.markdownguide.org/cheat-sheet/). DIRECTLY EDIT THE MARKDOWN PAGE TO SAVE CHANGES-html is self-generated!!!\n",
    "    - Push a minor \"index.md\" change and Verify on [Github](https://code.visualstudio.com/docs/editor/versioncontrol#_git-support)\n",
    "    - Verify \"index.md\" change on deployed GitHub Pages\n",
    "\n",
    "\n",
    "\n"
   ]
  },
  {
   "attachments": {},
   "cell_type": "markdown",
   "metadata": {},
   "source": []
  }
 ],
 "metadata": {
  "kernelspec": {
   "display_name": "Python 3 (ipykernel)",
   "language": "python",
   "name": "python3"
  },
  "language_info": {
   "codemirror_mode": {
    "name": "ipython",
    "version": 3
   },
   "file_extension": ".py",
   "mimetype": "text/x-python",
   "name": "python",
   "nbconvert_exporter": "python",
   "pygments_lexer": "ipython3",
   "version": "3.9.12"
  }
 },
 "nbformat": 4,
 "nbformat_minor": 2
}
