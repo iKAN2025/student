{
 "cells": [
  {
   "attachments": {},
   "cell_type": "markdown",
   "metadata": {},
   "source": []
  },
  {
   "cell_type": "markdown",
   "metadata": {},
   "source": []
  },
  {
   "cell_type": "markdown",
   "metadata": {},
   "source": []
  },
  {
   "cell_type": "code",
   "execution_count": 1,
   "metadata": {},
   "outputs": [
    {
     "data": {
      "text/markdown": [
       "\n",
       "### Markdown: This is a Heading\n",
       "\n",
       "This is a paragraph\n"
      ],
      "text/plain": [
       "<IPython.core.display.Markdown object>"
      ]
     },
     "metadata": {},
     "output_type": "display_data"
    }
   ],
   "source": []
  },
  {
   "cell_type": "code",
   "execution_count": 2,
   "metadata": {
    "vscode": {
     "languageId": "html"
    }
   },
   "outputs": [
    {
     "data": {
      "text/html": [
       "\n",
       "<h3>HTML: This is a Heading</h3>\n",
       "<p>This is a paragraph.</p>\n"
      ],
      "text/plain": [
       "<IPython.core.display.HTML object>"
      ]
     },
     "metadata": {},
     "output_type": "display_data"
    }
   ],
   "source": []
  },
  {
   "cell_type": "markdown",
   "metadata": {},
   "source": [
    "# Attributes\n",
    "- Learn about [attributes](https://www.w3schools.com/html/html_attributes.asp) \n",
    "- Tags can have additional info in the form of attributes\n",
    "- Attributes usually come in name/value pairs like: name=\"value\"\n",
    "\n",
    "```html\n",
    "<tagname attribute_name=\"attribute_value\" another_attribute=\"another_value\">inner html text</tagname>\n",
    "```\n",
    "\n",
    "- href example with attribute for web link and inner html to describe link\n",
    "\n",
    "```html\n",
    "<a href=\"https://www.w3schools.com/html/default.asp\">Visit W3Schools HTML Page</a>\n",
    "```"
   ]
  },
  {
   "attachments": {},
   "cell_type": "markdown",
   "metadata": {},
   "source": []
  },
  {
   "cell_type": "markdown",
   "metadata": {},
   "source": [
    "# More tags (not really in markdown)\n",
    "P tag (just represeants a paragraph/normal text)\n",
    "\n",
    "```html\n",
    "<p>This is a paragraph</p>\n",
    "```\n",
    "\n",
    "Button\n",
    "\n",
    "```html\n",
    "<button>some button text</button>\n",
    "```\n",
    "\n",
    "Div (groups together related content)\n",
    "\n",
    "```html\n",
    "<!-- first information -->\n",
    "<div>\n",
    "    <!-- notice how tags can be put INSIDE eachother -->\n",
    "    <p>This is the first paragarph of section 1</p>\n",
    "    <p>This is the second paragraph of section 1</p>\n",
    "</div>\n",
    "\n",
    "<!-- second information -->\n",
    "<div>\n",
    "    <!-- notice how tags can be put INSIDE eachother -->\n",
    "    <p>This is the first paragarph of section 2</p>\n",
    "    <p>This is the second paragraph of section 2</p>\n",
    "</div>\n",
    "```\n",
    "\n"
   ]
  },
  {
   "cell_type": "markdown",
   "metadata": {},
   "source": [
    "# Resources\n",
    "- https://www.w3schools.com/html/default.asp\n",
    "- I will show a demo of how to find information on this website"
   ]
  },
  {
   "cell_type": "markdown",
   "metadata": {},
   "source": [
    "# HTML Hacks\n",
    "- Below is a wireframe for an HTML element you will create. A wireframe is a rough visual representation of HTML elements on a page and isn't necessarily to scale or have the exact styling that the final HTML will have. Using the syntax above, try to create an HTML snippet that corresponds to the below wireframe.\n",
    "- The \"a tags\" can contain any links that you want\n",
    "\n",
    "![wireframe for html hacks]({{ site.baseurl }}/images/wireframe.png)"
   ]
  },
  {
   "cell_type": "code",
   "execution_count": 13,
   "metadata": {
    "vscode": {
     "languageId": "html"
    }
   },
   "outputs": [
    {
     "data": {
      "text/html": [
       "\n",
       "<html>\n",
       "<head>\n",
       "<style>\n",
       ".myDiv {\n",
       "  border: 5px outset #2F329F; /*use binary codes */\n",
       "  background-color: #EC329F;\n",
       "  text-align: center;\n",
       "}\n",
       ".myDivTwo {\n",
       "  border: 5px outset #2F329F;\n",
       "  background-color: #EC329F ;\n",
       "  text-align: center;\n",
       "}\n",
       "</style>\n",
       "</head>\n",
       "<body>\n",
       "\n",
       "<div class=\"myDiv\">\n",
       "  <button type=\"button\">Click Me!</button>\n",
       "  <p>This is a paragraph in a div element as shown in the wire frame</p>\n",
       "\n",
       "</div>\n",
       "<div class=\"myDivTwo\">\n",
       "\n",
       "  <a>This is an a tag </a> <p> </p>\n",
       "  <a>This is an a tag </a>\n",
       "  <p>This is a paragraph in a div element as shown in the wire frame</p>\n",
       "\n",
       "</div>\n",
       "</body>\n",
       "</html>\n",
       "\n",
       "\n"
      ],
      "text/plain": [
       "<IPython.core.display.HTML object>"
      ]
     },
     "metadata": {},
     "output_type": "display_data"
    }
   ],
   "source": []
  },
  {
   "attachments": {},
   "cell_type": "markdown",
   "metadata": {},
   "source": [
    "## Flask Repo Web Design\n",
    "\n",
    "We decided to make a tracker that tracks how long you play an instrument. We can also offer bar graph and charts for this! Here is how I imagine  the layout of our home page is."
   ]
  },
  {
   "cell_type": "code",
   "execution_count": 54,
   "metadata": {
    "vscode": {
     "languageId": "html"
    }
   },
   "outputs": [
    {
     "data": {
      "text/html": [
       "\n",
       "<html>\n",
       "<head>\n",
       "<style>\n",
       "  .instrumentDivOne {\n",
       "    background-image: url(https://drive.google.com/file/d/1_CUEUOrZjr47hLnq_wAB5I2g5oQUFalu/view?usp=sharing);\n",
       "    height: 50vh;\n",
       "  }\n",
       "  </style>\n",
       "\n",
       "\n",
       "\n",
       "\n",
       "\n",
       "\n",
       "\n",
       "  <div class=\"instrumentDivOne\">\n",
       "  \n",
       "  <p> Welcome to instrument tracker</p>\n",
       "\n",
       "</div>\n",
       "  \n",
       " \n",
       "\n"
      ],
      "text/plain": [
       "<IPython.core.display.HTML object>"
      ]
     },
     "metadata": {},
     "output_type": "display_data"
    }
   ],
   "source": [
    "\n",
    "  \n",
    " \n",
    "\n"
   ]
  }
 ],
 "metadata": {
  "kernelspec": {
   "display_name": "Python 3",
   "language": "python",
   "name": "python3"
  },
  "language_info": {
   "codemirror_mode": {
    "name": "ipython",
    "version": 3
   },
   "file_extension": ".py",
   "mimetype": "text/x-python",
   "name": "python",
   "nbconvert_exporter": "python",
   "pygments_lexer": "ipython3",
   "version": "3.11.3"
  },
  "orig_nbformat": 4
 },
 "nbformat": 4,
 "nbformat_minor": 2
}
