{
 "cells": [
  {
   "cell_type": "markdown",
   "metadata": {},
   "source": [
    "---\n",
    "layout: default\n",
    "title: Week 3 Plans\n",
    "type: plans\n",
    "courses: { compsci: {week: 3}}\n",
    "---"
   ]
  },
  {
   "cell_type": "code",
   "execution_count": 2,
   "metadata": {},
   "outputs": [
    {
     "ename": "ModuleNotFoundError",
     "evalue": "No module named 'emoji'",
     "output_type": "error",
     "traceback": [
      "\u001b[0;31m---------------------------------------------------------------------------\u001b[0m",
      "\u001b[0;31mModuleNotFoundError\u001b[0m                       Traceback (most recent call last)",
      "Cell \u001b[0;32mIn[2], line 1\u001b[0m\n\u001b[0;32m----> 1\u001b[0m \u001b[39mfrom\u001b[39;00m \u001b[39memoji\u001b[39;00m \u001b[39mimport\u001b[39;00m emojize \n\u001b[1;32m      2\u001b[0m \u001b[39mprint\u001b[39m(emojize(\u001b[39m\"\u001b[39m\u001b[39m:thumbs_up: Python is awesome! :grinning_face:\u001b[39m\u001b[39m\"\u001b[39m))\n\u001b[1;32m      4\u001b[0m \u001b[39mdef\u001b[39;00m \u001b[39mquestion_and_answer\u001b[39m(prompt):\n",
      "\u001b[0;31mModuleNotFoundError\u001b[0m: No module named 'emoji'"
     ]
    }
   ],
   "source": [
    "\n",
    "\n",
    "def question_and_answer(prompt):\n",
    "    print(\"Question: \" + prompt)\n",
    "    msg = input()\n",
    "    print(\"Answer: \" + msg)\n",
    "\n",
    "\n",
    "questioner = [\"Name the Python output command mentioned in this lesson?\", \"If you see many lines of code in order, what would College Board call it?\", \"Describe a keyword used in Python to define a function?\", \"What is grouping a sequence of commands, often used repeatedly, called?\", \"What command activates the jupyter notebook input box, which obtains input from the user?\", \"What command is used to include other functions that were previously developed?\", \"What command is used to evaluate correct or incorrect response in this example?\", \"Each 'if' command contains an '_________' to determine a true or false condition?\"]#make list for questions\n",
    "\n",
    "answerer = [\"print\", \"baz\", \"def\", \"procedural abstraction\", \"input\",  \"import\", \"if\", \"expression\"] # make list for answer\n",
    "\n",
    "import getpass, sys #import library \n",
    "\n",
    "def question_with_response(prompt): #new function \"question_with_response\", this function returns a value input by the user, allowing programmer to evaluate the response. \n",
    "    \n",
    "    print(\"Question: \" + prompt)\n",
    "    msg = input()\n",
    "    return msg\n",
    "\n",
    "questions = 8 #defines amount of questions (items in list)\n",
    "correct = 0 #defines amount of correct answers\n",
    "\n",
    "print('Hello, ' + getpass.getuser() + \" running \" + sys.executable)\n",
    "print(\"You will be asked \" + str(questions) + \" questions.\")\n",
    "#concatenated print statements \n",
    "question_and_answer(\"Are you ready to take a test?\") #calls previously defined functions\n",
    "\n",
    "\n",
    "for i in range (8): #iterates over question/answer lists\n",
    "  rsp = question_with_response(str(questioner[i])) #i in for loop =index of list item that is assigned to rsp\n",
    "  if rsp == (answerer[i]): #an if expression is evaluated for true or false\n",
    "      print(rsp + \" is correct!\")#true takes branch of code directly under if\n",
    "      correct += 1\n",
    "  else:\n",
    "      print(rsp + \" is incorrect!\")#false takes branch of code directly under else command\n",
    "  \n",
    "\n",
    "print(getpass.getuser() + \" you scored \" + str(correct) +\"/\" + str(questions)) #how many wrongs\n",
    "\n",
    "print(getpass.getuser() + \" you scored \" + str((correct/questions)*100) + \"%\") #percentage calculation"
   ]
  },
  {
   "cell_type": "markdown",
   "metadata": {},
   "source": []
  },
  {
   "cell_type": "markdown",
   "metadata": {},
   "source": [
    "### Imports, Selection, and Logical Expressions\n",
    "\n",
    "<p> In Python anatomy of you will be importing libraries and functions. This is code that is developed by others. In this example we are importing from a library called \"os\", this library extracts properties from the operating system of your existing system. Additionally, this example uses the custom function defined earlier in the Jupyter document. Python and Jupyter docs requires you to reference imports and definitions above the referencing line of code. <p> \n",
    "\n",
    "<p> import os, sys obtain functions and variables from running environment\n",
    "print('Hello, ' + getpass.getuser() + \" running \" + sys.executable + \" on \" + sys.platform + \"!\"), is a concatenated statement that outputs properties from the import\n",
    "Next, this example defines a new function \"question_with_response\", this function returns a value input by the user. This allows programmer to evaluate the response. The purpose of obtaining the return value is to evaluate if correct response was given to the question.</p>\n",
    "\n",
    "- response from \"question_with_response\" is captured in a variable called \"rsp\"\n",
    "- return command in function returns msg input by user\n",
    "- assignment to \"rsp\" is allowed a function is returning a value, names do not need to match (but could)\n",
    "- if command is next command in sequence after \"rsp\" assignment\n",
    "- this command contains an expression, rsp == \"import\" which compare what is typed to the string literal answer\n",
    "- an if expression is evaluated for true or false\n",
    "- true takes branch of code directly under if\n",
    "- false takes branch of code directly under else command\n",
    "- The grand finally of this example is calculating the right/total.\n",
    "\n",
    "- question = 3 is defined as number of questions\n",
    "- correct = 0 is defined as running score\n",
    "- correct += 1 is the way to add one to the score, this code is placed in sequence under correct expression evaluation\n",
    "- since question and correct are numbers, versus strings, to place them in concatenation in print statements you must inclose them in Python function str() which turns number into string.\n",
    "- final print statement is concatenated and formatted to give user and right over wrong\n",
    "\n",
    "### Hacks\n",
    "I updated new questions from the lab notebook the teacher created to make a comprehensive list of vocab.  I created a list for questions and answers so that a for loop would be able to <mark> iterate </mark>  over those easily. Since both lists start from <mark> index 0  </mark> and both have 9 items, I made the number in  for loop 8 so it would run from the <mark> 0th index to the 8th index for both lists (9 items) </mark> I created a new print statement to add a percentage-I divided the amount of correct questions by total questions. That result led to a decimal, so I multiplied it by a 100. To <mark> concatenate </mark> that amount, I converted that whole value into a string. Then I added a percent sign so the user would know that this score was a percentage. "
   ]
  }
 ],
 "metadata": {
  "kernelspec": {
   "display_name": "Python 3 (ipykernel)",
   "language": "python",
   "name": "python3"
  },
  "language_info": {
   "codemirror_mode": {
    "name": "ipython",
    "version": 3
   },
   "file_extension": ".py",
   "mimetype": "text/x-python",
   "name": "python",
   "nbconvert_exporter": "python",
   "pygments_lexer": "ipython3",
   "version": "3.11.4"
  }
 },
 "nbformat": 4,
 "nbformat_minor": 2
}
