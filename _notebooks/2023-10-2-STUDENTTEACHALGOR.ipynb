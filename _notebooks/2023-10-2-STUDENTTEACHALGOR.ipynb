{
 "cells": [
  {
   "cell_type": "markdown",
   "metadata": {},
   "source": [
    "---\n",
    "toc: false\n",
    "comments: false\n",
    "title: ALGORITHMS\n",
    "description: Team SRSC \n",
    "type: hacks\n",
    "courses: { compsci: {week: 11} }\n",
    "---"
   ]
  },
  {
   "cell_type": "markdown",
   "metadata": {},
   "source": [
    "# ALGORITHMS \n",
    "## SRSC "
   ]
  },
  {
   "cell_type": "markdown",
   "metadata": {},
   "source": [
    "\n",
    "# <mark>BIG IDEA: A FINITE SET OF INSTRUCTIONS THAT ACCOMPLISH A SPECIFIC TASK \n",
    "\n"
   ]
  },
  {
   "cell_type": "markdown",
   "metadata": {},
   "source": [
    "## SEQUENCING \n",
    "\n",
    "### <mark> DO STEPS OF CODE IN THE ORDER SPECIFIED \n",
    "\n",
    "first step -> second step -> third step"
   ]
  },
  {
   "cell_type": "code",
   "execution_count": 23,
   "metadata": {},
   "outputs": [
    {
     "name": "stdout",
     "output_type": "stream",
     "text": [
      "double of 9 is 18\n",
      "18\n",
      "9\n"
     ]
    }
   ],
   "source": [
    "number = int(input(\"Enter a number: \"))\n",
    "\n",
    "result = number * 2\n",
    "print(\"double of \" + str(number) + \" is \" + str(result))\n",
    "print(result)\n",
    "print(number)"
   ]
  },
  {
   "cell_type": "markdown",
   "metadata": {},
   "source": [
    "\n",
    "1. Create a variable based on user input <br>\n",
    "2. Multiply variable by two<br>\n",
    "3. Print out both variables at the end<br>\n",
    "\n"
   ]
  },
  {
   "cell_type": "markdown",
   "metadata": {},
   "source": [
    "## SELECTION \n",
    "\n",
    "### <mark> Choose TWO OR MORE OUTCOMES based on a DECISION or CONDITION \n"
   ]
  },
  {
   "cell_type": "code",
   "execution_count": 8,
   "metadata": {},
   "outputs": [
    {
     "name": "stdout",
     "output_type": "stream",
     "text": [
      "Odd\n"
     ]
    }
   ],
   "source": [
    "number = 5\n",
    "if number % 2 == 0:\n",
    "    print(\"Even\")\n",
    "else:\n",
    "    print(\"Odd\")\n"
   ]
  },
  {
   "cell_type": "markdown",
   "metadata": {},
   "source": [
    "1. Set number to 5 <br>\n",
    "2. If number is divisible by 2 with no remainder, print \"Even\" <br>\n",
    "3. Otherwise, print \"Odd\" <br>\n"
   ]
  },
  {
   "cell_type": "markdown",
   "metadata": {},
   "source": [
    "# ITERATION \n",
    "\n",
    "## <mark> REPEAT STEPS BASED ON A DECISION or STOP when a condition is met \n",
    "\n",
    "first step -> \n",
    "second step -> \n",
    "if step 2: true -> first step \n",
    "if step 2: false -> third step \n",
    "-> fourth step "
   ]
  },
  {
   "cell_type": "code",
   "execution_count": null,
   "metadata": {},
   "outputs": [
    {
     "name": "stdout",
     "output_type": "stream",
     "text": [
      "apple\n",
      "banana\n",
      "cherry\n"
     ]
    }
   ],
   "source": [
    "\n",
    "fruits = [\"apple\", \"banana\", \"cherry\"]\n",
    "for fruit in fruits:\n",
    "    print(fruit)\n",
    "\n"
   ]
  },
  {
   "cell_type": "markdown",
   "metadata": {},
   "source": [
    "1. Create a list called fruits <br>\n",
    "2. For each fruit in the list, print the fruit\n"
   ]
  },
  {
   "cell_type": "markdown",
   "metadata": {},
   "source": [
    "# ACTIVITY 1: Robot Pseudocode \n",
    "\n",
    "[Link to Robot Question 2](https://assets.learnosity.com/organisations/537/VR165972.g03.png)\n",
    "\n",
    "Write the pseudocode to move the robot onto the gray square. "
   ]
  },
  {
   "cell_type": "markdown",
   "metadata": {},
   "source": [
    "Available Code: <br>\n",
    "Move forward <br>\n",
    "Turn Left <br>\n",
    "Turn Right <br>\n",
    "\n",
    "\n",
    "\n"
   ]
  },
  {
   "cell_type": "markdown",
   "metadata": {},
   "source": [
    "PseudoCode here:  move forward\n",
    "move forward\n",
    "move forward\n",
    "move forward\n",
    "move forward\n",
    "move left\n",
    "move forward\n",
    "move forward\n",
    "move forward\n",
    "move right\n",
    "move forward\n",
    "move forward\n",
    "move forward"
   ]
  },
  {
   "cell_type": "markdown",
   "metadata": {},
   "source": []
  },
  {
   "cell_type": "markdown",
   "metadata": {},
   "source": [
    "## Calculator Code"
   ]
  },
  {
   "cell_type": "code",
   "execution_count": 39,
   "metadata": {},
   "outputs": [
    {
     "name": "stdout",
     "output_type": "stream",
     "text": [
      "Addition\n",
      "8\n",
      "\n",
      "Subtraction\n",
      "6\n",
      "\n",
      "Multiplication\n",
      "42\n",
      "\n",
      "Float Division\n",
      "5.0\n",
      "\n",
      "Integer Division (floor division)\n",
      "5\n",
      "\n",
      "Modulus (remainder)\n",
      "1\n"
     ]
    }
   ],
   "source": [
    "# Math Operations:\n",
    "\n",
    "print(\"Addition\") #addition\n",
    "result = 5 + 3\n",
    "print(result)  # 8\n",
    "\n",
    "print(\"\\nSubtraction\") #subtraction\n",
    "result = 10 - 4\n",
    "print(result)  # 6\n",
    "\n",
    "print(\"\\nMultiplication\") #multiplication\n",
    "result = 6 * 7\n",
    "print(result)  # 42\n",
    "\n",
    "print(\"\\nFloat Division\") #float division (float = numbers with decimal values)\n",
    "result = 20 / 4\n",
    "print(result)  # 5.0\n",
    "\n",
    "print(\"\\nInteger Division (floor division)\") #floor division\n",
    "result = 20 // 4\n",
    "print(result)  # 5\n",
    "\n",
    "print(\"\\nModulus (remainder)\") #remainder\n",
    "result = 10 % 3\n",
    "print(result)  # 1"
   ]
  },
  {
   "cell_type": "markdown",
   "metadata": {},
   "source": [
    "## Fibonacci "
   ]
  },
  {
   "cell_type": "code",
   "execution_count": null,
   "metadata": {},
   "outputs": [
    {
     "name": "stdout",
     "output_type": "stream",
     "text": [
      "[0, 1, 1, 2, 3, 5, 8, 13, 21, 34]\n"
     ]
    }
   ],
   "source": [
    "def fibonacci(n): #fibonacci sequence \n",
    "    fib_series = [0, 1]  \n",
    "\n",
    "    while len(fib_series) < n:\n",
    "        next_number = fib_series[-1] + fib_series[-2]  \n",
    "        fib_series.append(next_number)  \n",
    "\n",
    "    return fib_series\n",
    "\n",
    "n = 10  \n",
    "result = fibonacci(n)\n",
    "print(result)  # [0, 1, 1, 2, 3, 5, 8, 13, 21, 34]\n",
    "\n",
    "# initial length of list is 2 \n",
    "# while length of list is less than amount of numbers we want in our final sequence\n",
    "# add the last two numbers of the list \n",
    "# add this value to the end of the list \n",
    "# repeat until length of list reaches n\n"
   ]
  },
  {
   "cell_type": "markdown",
   "metadata": {},
   "source": [
    "## Mini Lesson: If, Else Statements"
   ]
  },
  {
   "cell_type": "code",
   "execution_count": null,
   "metadata": {},
   "outputs": [
    {
     "name": "stdout",
     "output_type": "stream",
     "text": [
      "0 is zero.\n"
     ]
    }
   ],
   "source": [
    "num =0\n",
    "\n",
    "if num > 0:\n",
    "    print(str(num) + \" is positive.\")\n",
    "elif num < 0:\n",
    "    print(str(num) + \" is negative.\")\n",
    "else:\n",
    "    print(str(num) + \" is zero.\")\n"
   ]
  },
  {
   "cell_type": "markdown",
   "metadata": {},
   "source": [
    "## Mini Lesson 2: For, While Loops"
   ]
  },
  {
   "cell_type": "code",
   "execution_count": null,
   "metadata": {},
   "outputs": [
    {
     "name": "stdout",
     "output_type": "stream",
     "text": [
      "Alice\n",
      "Bob\n",
      "Charlie\n",
      "David\n",
      "Eve\n",
      "1\n",
      "2\n",
      "3\n",
      "4\n",
      "5\n"
     ]
    }
   ],
   "source": [
    "names = [\"Alice\", \"Bob\", \"Charlie\", \"David\", \"Eve\"]\n",
    "for name in names:\n",
    "    print(name)\n",
    "\n",
    "\n",
    "num = 1\n",
    "while num <= 5:\n",
    "    print(num)\n",
    "    num += 1\n"
   ]
  },
  {
   "cell_type": "markdown",
   "metadata": {},
   "source": [
    "## Mini Lesson 3: Defining Function "
   ]
  },
  {
   "cell_type": "code",
   "execution_count": null,
   "metadata": {},
   "outputs": [],
   "source": [
    "\n",
    "def calculate_square(number):\n",
    "    square = number * number\n",
    "    return square #ends function \n",
    "\n",
    "result = calculate_square(5)\n",
    "print(f\"The square of 5 is {result}\")\n"
   ]
  },
  {
   "cell_type": "markdown",
   "metadata": {},
   "source": [
    "## Mini Lesson 4: Input"
   ]
  },
  {
   "cell_type": "code",
   "execution_count": 2,
   "metadata": {},
   "outputs": [
    {
     "name": "stdout",
     "output_type": "stream",
     "text": [
      "You are 5 years old\n"
     ]
    }
   ],
   "source": [
    "variable1 = input(\"How old are you?\")\n",
    "print(\"You are \" + variable1 + \" years old\")"
   ]
  },
  {
   "cell_type": "markdown",
   "metadata": {},
   "source": [
    "# ACTIVITY 2: CALCULATOR \n",
    "1. Create calculator function <br>\n",
    "2. Allow user to Choose 2 numbers and an operator <br>\n",
    "3. Perform specified operation based on input <br>\n",
    "4. Return result of calculation <br>\n"
   ]
  },
  {
   "cell_type": "code",
   "execution_count": 4,
   "metadata": {},
   "outputs": [
    {
     "name": "stdout",
     "output_type": "stream",
     "text": [
      "Select operation.\n",
      "1.Add\n",
      "2.Subtract\n",
      "3.Multiply\n",
      "4.Divide\n",
      "5.Exponent\n",
      "1.0 ^ 5.0 = 1.0\n"
     ]
    }
   ],
   "source": [
    "# This function adds two numbers\n",
    "def add(x, y):\n",
    "    return x + y\n",
    "\n",
    "# This function subtracts two numbers\n",
    "def subtract(x, y):\n",
    "    return x - y\n",
    "\n",
    "# This function multiplies two numbers\n",
    "def multiply(x, y):\n",
    "    return x * y\n",
    "\n",
    "# This function divides two numbers\n",
    "def divide(x, y):\n",
    "    return x / y\n",
    "\n",
    "def exponent(x, y):\n",
    "    return x**y\n",
    "\n",
    "\n",
    "print(\"Select operation.\")\n",
    "print(\"1.Add\")\n",
    "print(\"2.Subtract\")\n",
    "print(\"3.Multiply\")\n",
    "print(\"4.Divide\")\n",
    "print(\"5.Exponent\")\n",
    "\n",
    "while True:\n",
    "    # take input from the user\n",
    "    choice = input(\"Enter choice(1/2/3/4): \")\n",
    "\n",
    "    # check if choice is one of the four options\n",
    "    if choice in ('1', '2', '3', '4', '5'):\n",
    "        try:\n",
    "            num1 = float(input(\"Enter first number: \"))\n",
    "            num2 = float(input(\"Enter second number: \"))\n",
    "        except ValueError:\n",
    "            print(\"Invalid input. Please enter a number.\")\n",
    "            continue\n",
    "\n",
    "        if choice == '1':\n",
    "            print(num1, \"+\", num2, \"=\", add(num1, num2))\n",
    "\n",
    "        elif choice == '2':\n",
    "            print(num1, \"-\", num2, \"=\", subtract(num1, num2))\n",
    "\n",
    "        elif choice == '3':\n",
    "            print(num1, \"*\", num2, \"=\", multiply(num1, num2))\n",
    "\n",
    "        elif choice == '4':\n",
    "            print(num1, \"/\", num2, \"=\", divide(num1, num2))\n",
    "            \n",
    "        elif choice == \"5\":\n",
    "            print(num1, \"^\", num2, \"=\", exponent(num1, num2))\n",
    "        \n",
    "        # check if user wants another calculation\n",
    "        # break the while loop if answer is no\n",
    "        next_calculation = input(\"Let's do next calculation? (yes/no): \")\n",
    "        if next_calculation == \"no\":\n",
    "          break\n",
    "    else:\n",
    "        print(\"Invalid Input\")"
   ]
  },
  {
   "cell_type": "code",
   "execution_count": 15,
   "metadata": {},
   "outputs": [
    {
     "name": "stdout",
     "output_type": "stream",
     "text": [
      "\n",
      "String Concatenation\n",
      "Hello World\n",
      "\n",
      "String Length\n",
      "22\n",
      "\n",
      "String Indexing and Slicing\n",
      "P\n",
      "tho\n",
      "\n",
      "String Repetition (Repeating Strings)\n",
      "Repeat Repeat Repeat \n",
      "\n",
      "Palindrome Check Algorithm\n",
      "True\n",
      "False\n"
     ]
    }
   ],
   "source": [
    "# String Operations and Concatenation:\n",
    "\n",
    "print(\"\\nString Concatenation\") #add together strings\n",
    "str1 = \"Hello\"\n",
    "str2 = \"World\"\n",
    "result = str1 + \" \" + str2\n",
    "print(result)  # \"Hello World\"\n",
    "\n",
    "print(\"\\nString Length\") #length of string\n",
    "text = \"This is a sample text.\"\n",
    "length = len(text)\n",
    "print(length)  # 22\n",
    "\n",
    "print(\"\\nString Indexing and Slicing\") #string slicing \n",
    "text = \"Python\"\n",
    "first_char = text[0]\n",
    "substring = text[2:5]\n",
    "print(first_char)  # 'P'\n",
    "print(substring)  # 'tho'\n",
    "\n",
    "\n",
    "print(\"\\nString Repetition (Repeating Strings)\")\n",
    "text = \"Repeat \"\n",
    "result = text * 3\n",
    "print(result)  # \"Repeat Repeat Repeat \"\n",
    "\n",
    "# Palindrome Check Algorithm:\n",
    "\n",
    "print(\"\\nPalindrome Check Algorithm\")\n",
    "\n",
    "def is_palindrome(text):\n",
    "    text = text.replace(\" \", \"\").lower()\n",
    "    return text == text[::-1] ## == will return boolean \n",
    "\n",
    "result1 = is_palindrome(\"racecar\")\n",
    "result2 = is_palindrome(\"Hello, World!\")\n",
    "\n",
    "print(result1)  # True\n",
    "print(result2)  # False\n",
    "\n",
    "\n",
    "\n",
    "\n"
   ]
  },
  {
   "cell_type": "markdown",
   "metadata": {},
   "source": [
    "# ACTIVITY 3: COUNTING VOWELS\n",
    "1. Create a function that takes a word as an input <br>\n",
    "2. Use a for loop to iterate through each character of a word <br>\n",
    "3. Check how many characters in a word contain vowels <br>\n",
    "4. Return vowel number <br>"
   ]
  },
  {
   "cell_type": "code",
   "execution_count": 6,
   "metadata": {},
   "outputs": [
    {
     "name": "stdout",
     "output_type": "stream",
     "text": [
      "Number of vowels in the given string is:  3\n"
     ]
    }
   ],
   "source": [
    "\n",
    "word = input(\"Word: \")\n",
    "\n",
    "\n",
    "def wordAnalyzer(word):\n",
    "    vowels = [\"a\", \"e\", \"i\", \"o\", \"u\"]\n",
    "    count = 0\n",
    "    for character in word:\n",
    "        if character.lower() in vowels:\n",
    "            count += 1\n",
    "    print(\"Number of vowels in the given string is: \", count)\n",
    "    \n",
    "\n",
    "\n",
    "\n",
    "wordAnalyzer(word)\n",
    "    \n",
    "    \n",
    "    \n",
    "\n",
    "\n",
    "\n"
   ]
  },
  {
   "cell_type": "markdown",
   "metadata": {},
   "source": [
    "# <mark> HOMEWORK \n",
    "## CREATE TEXT (string) ANALYZER: <br>\n",
    "### criteria: <br>\n",
    "1. Accepts input from user <br>\n",
    "2. Counts total letters, numbers, spaces in a string <br>\n",
    "3. Counts number of vowels <br>\n",
    "4. Calculates average word length <br>\n",
    "5. Correctly displays: total # of characters (including spaces + numbers), total vowels, average word length <br>\n",
    "### other criteria: <br>\n",
    "1. ensure that program handles upper and lowercase spelling <br>\n",
    "2. Test multiple inputs to ensure accuracy \n",
    "### Criteria for above 90%: <br>\n",
    "1. Add a unique program, function, or feature not specified by criterias\n"
   ]
  },
  {
   "cell_type": "code",
   "execution_count": 25,
   "metadata": {},
   "outputs": [
    {
     "name": "stdout",
     "output_type": "stream",
     "text": [
      " The total number of characters in the word, including  letters, numbers, and spaces, is 6\n",
      " The average word length is 2.5\n",
      "Number of vowels in the given string is:  2\n"
     ]
    }
   ],
   "source": [
    "fromUser = input(\"Word: \")\n",
    "\n",
    "\n",
    "def wordAnalyzer(fromUser):\n",
    "    length = len(fromUser)\n",
    "    print(\" The total number of characters in the word, including  letters, numbers, and spaces, is\", length)\n",
    "    words = fromUser.split()\n",
    "    average = sum(len(word) for word in words) / len(words)\n",
    "    print(\" The average word length is\", average)\n",
    "    vowels = [\"a\", \"e\", \"i\", \"o\", \"u\"]\n",
    "    count = 0\n",
    "    for character in fromUser:\n",
    "        if character.lower() in vowels:\n",
    "            count += 1\n",
    "    print(\"Number of vowels in the given string is: \", count)\n",
    "    \n",
    "\n",
    "\n",
    "\n",
    "wordAnalyzer(word)\n",
    "    \n",
    "\n",
    "    \n"
   ]
  },
  {
   "cell_type": "markdown",
   "metadata": {},
   "source": [
    "## Tic Tac Toe Program using python\n",
    "##"
   ]
  },
  {
   "cell_type": "code",
   "execution_count": 28,
   "metadata": {},
   "outputs": [
    {
     "name": "stdout",
     "output_type": "stream",
     "text": [
      "****Tic Tac Toe Game***\n",
      "\n",
      "\n",
      "Positions!\n",
      "_______________________\n",
      "  1   |   2    |   3  \n",
      "      |        |      \n",
      "_______________________\n",
      "  4   |   5    |   6  \n",
      "      |        |      \n",
      "_______________________\n",
      "  7   |   8    |  9  \n",
      "      |        |    \n",
      "_______________________\n",
      "Real game\n",
      "________________\n",
      "  X  |     |     \n",
      "                                          \n",
      "________________\n",
      "     |     |     \n",
      "                                        \n",
      "________________\n",
      "     |     |     \n",
      "                                        \n",
      "________________\n",
      "________________\n",
      "  X  |  O  |     \n",
      "                                          \n",
      "________________\n",
      "     |     |     \n",
      "                                        \n",
      "________________\n",
      "     |     |     \n",
      "                                        \n",
      "________________\n",
      "________________\n",
      "  X  |  O  |  X  \n",
      "                                          \n",
      "________________\n",
      "     |     |     \n",
      "                                        \n",
      "________________\n",
      "     |     |     \n",
      "                                        \n",
      "________________\n",
      "________________\n",
      "  X  |  O  |  X  \n",
      "                                          \n",
      "________________\n",
      "  O  |     |     \n",
      "                                        \n",
      "________________\n",
      "     |     |     \n",
      "                                        \n",
      "________________\n",
      "________________\n",
      "  X  |  O  |  X  \n",
      "                                          \n",
      "________________\n",
      "  O  |  X  |     \n",
      "                                        \n",
      "________________\n",
      "     |     |     \n",
      "                                        \n",
      "________________\n",
      "________________\n",
      "  X  |  O  |  X  \n",
      "                                          \n",
      "________________\n",
      "  O  |  X  |  O  \n",
      "                                        \n",
      "________________\n",
      "     |     |     \n",
      "                                        \n",
      "________________\n",
      "________________\n",
      "  X  |  O  |  X  \n",
      "                                          \n",
      "________________\n",
      "  O  |  X  |  O  \n",
      "                                        \n",
      "________________\n",
      "  X  |     |     \n",
      "                                        \n",
      "________________\n",
      "me has won\n"
     ]
    }
   ],
   "source": [
    "#create board\n",
    "print(\"****Tic Tac Toe Game***\\n\\n\")\n",
    "print(\"Positions!\")\n",
    "print(\"_______________________\")\n",
    "print(\"  1   |   2    |   3  \")\n",
    "print(\"      |        |      \")\n",
    "print(\"_______________________\")\n",
    "print(\"  4   |   5    |   6  \")\n",
    "print(\"      |        |      \")\n",
    "print(\"_______________________\")\n",
    "print(\"  7   |   8    |  9  \")\n",
    "print(\"      |        |    \"  )\n",
    "print(\"_______________________\")\n",
    "\n",
    "\n",
    "print(\"Real game\")\n",
    "\n",
    "\n",
    "\n",
    "\n",
    "list = [\" \", \" \", \" \" , \" \" , \" \", \" \", \" \", \" \", \" \"]\n",
    "checkTrue = all(list)\n",
    "\n",
    "\n",
    "def generate_gameboard():\n",
    "  print(\"________________\")\n",
    "  print(f\"  {list[0]}  |  {list[1]}  |  {list[2]}  \") #fix this\n",
    "  print(\"                                          \")\n",
    "  print(\"________________\")\n",
    "  print(f\"  {list[3]}  |  {list[4]}  |  {list[5]}  \")\n",
    "  print(\"                                        \")\n",
    "  print(\"________________\")\n",
    "  print(f\"  {list[6]}  |  {list[7]}  |  {list[8]}  \")\n",
    "  print(\"                                        \")\n",
    "  print(\"________________\")\n",
    "\n",
    "\n",
    "\n",
    "position_list = [1, 2, 3, 4, 5, 6, 7, 8, 9]\n",
    "name_list = []\n",
    "\n",
    "win = False\n",
    "\n",
    "\n",
    "\n",
    "\n",
    "class Game():\n",
    "  class Player():\n",
    "      playerx = input(\"Who wants to be X?\")\n",
    "      playero = input(\"Who wants to be O?\")\n",
    "      name_list.append(playerx)  \n",
    "      name_list.append(playero) \n",
    "      def __init__(self, type):\n",
    "          self.type = type\n",
    "  playerx = Player(\"X\")\n",
    "  playero = Player(\"O\")\n",
    "  def move (x,y):\n",
    "          choose = int(input(f\"What position do you want to pick {x}?\"))\n",
    "          if choose in position_list:\n",
    "             chooamandase = int(choose)\n",
    "             list[choose-1] = y.type\n",
    "             generate_gameboard()\n",
    "             position_list.remove(choose)\n",
    "          else:\n",
    "            while choose not in position_list: \n",
    "             choose = int(input(f\"Sorry, not a valid input. Try again from the integers 1-9, as pictured above, and make sure your spot isn't taken. What position do you want to pick {x}?\"))\n",
    "             if choose in position_list:\n",
    "               break\n",
    "              \n",
    "            choose = int(choose)\n",
    "            list[choose-1] = y.type\n",
    "            generate_gameboard()\n",
    "            position_list.remove(choose)\n",
    "            \n",
    "            \n",
    "\n",
    "  while win == False:\n",
    "    move(name_list[0],playerx)\n",
    "\n",
    "    \n",
    "    \n",
    "    if list[0] == list[3] and list[3] == list[6] and list[0] == \"X\":\n",
    "        print (f\"{name_list[0]} won!\")\n",
    "        win = True\n",
    "    elif list[0] == list[3] and list[3] == list[6] and list[0] == \"Y\":\n",
    "        print(f\"{name_list[1]} has won\")\n",
    "        win = True\n",
    "    elif list[0] == list[1] and list[1] == list[2] and list[0] == \"X\":\n",
    "        print (f\"{name_list[0]} won!\")\n",
    "        win = True\n",
    "    elif list[0] == list[1] and list[1] == list[2] and list[0] == \"Y\":  \n",
    "        print(f\"{name_list[1]} has won\")\n",
    "        win = True\n",
    "    elif list[3] == list[4] and list[4]==list[5] and list[3] ==\"X\":\n",
    "        print(f\"{name_list[0]} has won\")\n",
    "        win = True\n",
    "    elif list[3] == list[4] and list[4]==list[5] and list[3] ==\"Y\":\n",
    "        print(f\"{name_list[1]} has won\")\n",
    "        win = True\n",
    "    elif list[6] == list[7] and list[7] == list[8] and list[8] == \"X\":\n",
    "        print(f\"{name_list[0]} has won\")\n",
    "        win = True\n",
    "    elif list[6] == list[7] and list[7] == list[8] and list[8] == \"Y\":\n",
    "        print(f\"{name_list[1]} has won\")\n",
    "        win = True\n",
    "    elif list[0] == list[4] and list[4]==list[8] and list[0]==\"X\":\n",
    "      print(f\"{name_list[0]} has won\")\n",
    "      win = True\n",
    "    elif list[0] == list[4] and list[4]==list[8] and list[0]==\"Y\":\n",
    "      print(f\"{name_list[1]} has won\")\n",
    "      win = True\n",
    "    elif list[2] == list[4] and list[4]==list[6] and list[2] == \"X\":\n",
    "      print(f\"{name_list[0]} has won\")\n",
    "      win = True\n",
    "    elif list[2] == list[4] and list[4]==list[6] and list[2] == \"Y\":\n",
    "      print(f\"{name_list[1]} has won\")\n",
    "      win = True\n",
    "    elif list[1] == list[4] and list[4]==list[7] and list[1] == \"X\": \n",
    "      print(f\"{name_list[0]} has won\")\n",
    "      win = True\n",
    "    elif list[1] == list[4] and list[4]==list[7] and list[1] == \"Y\": \n",
    "      print(f\"{name_list[1]} has won\")\n",
    "      win = True\n",
    "    elif list[2] == list[5] and list[5]==list[8] and list[2] == \"X\": \n",
    "      print(f\"{name_list[0]} has won\")\n",
    "      win = True\n",
    "    elif list[2] == list[5] and list[5]==list[8] and list[2] == \"Y\": \n",
    "      print(f\"{name_list[1]} has won\")\n",
    "      win = True\n",
    "    elif  \" \" not in list:\n",
    "      print(\"No one won! Try again!\")\n",
    "      win = True\n",
    "\n",
    "    elif win == False:\n",
    "      move(name_list[1],playero)\n",
    " \n",
    "      \n",
    "      \n",
    "      \n",
    "    \n",
    "       \n",
    "    "
   ]
  }
 ],
 "metadata": {
  "kernelspec": {
   "display_name": "base",
   "language": "python",
   "name": "python3"
  },
  "language_info": {
   "codemirror_mode": {
    "name": "ipython",
    "version": 3
   },
   "file_extension": ".py",
   "mimetype": "text/x-python",
   "name": "python",
   "nbconvert_exporter": "python",
   "pygments_lexer": "ipython3",
   "version": "3.11.3"
  },
  "orig_nbformat": 4
 },
 "nbformat": 4,
 "nbformat_minor": 2
}
